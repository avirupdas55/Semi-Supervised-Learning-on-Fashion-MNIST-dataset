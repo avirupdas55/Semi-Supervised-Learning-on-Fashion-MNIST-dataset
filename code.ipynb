{
 "cells": [
  {
   "cell_type": "markdown",
   "id": "ac47551d-2b53-44e4-8c5c-289f1f80c3cd",
   "metadata": {
    "id": "ac47551d-2b53-44e4-8c5c-289f1f80c3cd"
   },
   "source": [
    "# Using kmeans clustering to identify a small subset of labelled images to seed the classification process for Fashion MNIST dataset\n",
    "## -Avirup Das [MDS202013]\n",
    "## -Ayush Thada [MDS202014]"
   ]
  },
  {
   "cell_type": "code",
   "execution_count": null,
   "id": "b04cbd36-4646-48c2-8ade-4e5b8c0332f8",
   "metadata": {
    "id": "b04cbd36-4646-48c2-8ade-4e5b8c0332f8"
   },
   "outputs": [],
   "source": [
    "%load_ext memory_profiler"
   ]
  },
  {
   "cell_type": "code",
   "execution_count": null,
   "id": "82abf403-133f-4311-8441-c6c940ab4614",
   "metadata": {
    "id": "82abf403-133f-4311-8441-c6c940ab4614",
    "tags": []
   },
   "outputs": [],
   "source": [
    "import numpy as np\n",
    "import tensorflow as tf\n",
    "from tensorflow import keras\n",
    "from tensorflow.keras import models, layers, losses, metrics, callbacks, datasets\n",
    "from tensorflow.keras.utils import plot_model\n",
    "from sklearn.linear_model import LogisticRegression\n",
    "from sklearn.pipeline import Pipeline\n",
    "from sklearn.cluster import KMeans\n",
    "from joblib import dump, load\n",
    "import matplotlib.pyplot as plt\n",
    "import warnings\n",
    "warnings.filterwarnings('ignore')\n",
    "seed=42\n",
    "tf.random.set_seed(seed)"
   ]
  },
  {
   "cell_type": "markdown",
   "id": "b015c9a9-fa52-471c-af5a-b9cb801683af",
   "metadata": {
    "id": "b015c9a9-fa52-471c-af5a-b9cb801683af"
   },
   "source": [
    "# Loading and Preprocessing Data"
   ]
  },
  {
   "cell_type": "code",
   "execution_count": null,
   "id": "604276cb-8f1a-4b53-bb1e-3a647c90004d",
   "metadata": {
    "id": "604276cb-8f1a-4b53-bb1e-3a647c90004d",
    "outputId": "6b9a1501-e098-423c-f686-403675019796"
   },
   "outputs": [
    {
     "name": "stdout",
     "output_type": "stream",
     "text": [
      "X-train shape: (60000, 28, 28)\n",
      "y-train shape: (60000,)\n",
      "X-test shape: (10000, 28, 28)\n",
      "y-test shape: (10000,)\n"
     ]
    }
   ],
   "source": [
    "(X_train,y_train),(X_test,y_test)=datasets.fashion_mnist.load_data()\n",
    "class_names=['T-shirt/top','Trouser','Pullover','Dress','Coat','Sandal','Shirt',\n",
    "            'Sneaker','Bag','Ankle Boot']\n",
    "# Normalizing\n",
    "X_train, X_test= X_train/255.0, X_test/255.0\n",
    "\n",
    "# Checking shape of the data\n",
    "print(f\"X-train shape: {X_train.shape}\")\n",
    "print(f\"y-train shape: {y_train.shape}\")\n",
    "print(f\"X-test shape: {X_test.shape}\")\n",
    "print(f\"y-test shape: {y_test.shape}\")\n",
    "\n",
    "# Flattening data for Logistic Regression\n",
    "X_train_flatten= X_train.reshape(X_train.shape[0],-1)\n",
    "y_train_flatten= y_train.reshape(y_train.shape[0],-1)\n",
    "X_test_flatten= X_test.reshape(X_test.shape[0],-1)\n",
    "y_test_flatten= y_test.reshape(y_test.shape[0],-1)"
   ]
  },
  {
   "cell_type": "code",
   "execution_count": null,
   "id": "7cb103a1-9392-45a1-bd40-7d1269305c77",
   "metadata": {
    "id": "7cb103a1-9392-45a1-bd40-7d1269305c77",
    "outputId": "93c74de2-c21e-44e5-d31c-3e9e564f06ca"
   },
   "outputs": [
    {
     "data": {
      "image/png": "[encoded data removed]",
      "text/plain": [
       "<Figure size 432x288 with 1 Axes>"
      ]
     },
     "metadata": {
      "needs_background": "light",
      "tags": []
     },
     "output_type": "display_data"
    },
    {
     "name": "stdout",
     "output_type": "stream",
     "text": [
      "It is a  Shirt\n"
     ]
    }
   ],
   "source": [
    "index=3000\n",
    "plt.imshow(X_train[index],cmap='binary')\n",
    "plt.axis('off')\n",
    "plt.show()\n",
    "\n",
    "print('It is a ',class_names[y_train[index]])"
   ]
  },
  {
   "cell_type": "markdown",
   "id": "647a12d1-806f-4cd3-a67b-ae25934d402e",
   "metadata": {
    "id": "647a12d1-806f-4cd3-a67b-ae25934d402e"
   },
   "source": [
    "# Experimenting with Logistic Regression"
   ]
  },
  {
   "cell_type": "markdown",
   "id": "da93171a-9a2b-4b3b-884e-0184cfe761d0",
   "metadata": {
    "id": "da93171a-9a2b-4b3b-884e-0184cfe761d0"
   },
   "source": [
    "## On original data"
   ]
  },
  {
   "cell_type": "code",
   "execution_count": null,
   "id": "e6b1ef47-5d0f-41c6-b835-7f74c36d4632",
   "metadata": {
    "id": "e6b1ef47-5d0f-41c6-b835-7f74c36d4632",
    "outputId": "9819c34a-255d-4f1f-edd8-eccda52ef379",
    "tags": []
   },
   "outputs": [
    {
     "name": "stdout",
     "output_type": "stream",
     "text": [
      "peak memory: 3220.67 MiB, increment: 0.00 MiB\n",
      "CPU times: user 31min 35s, sys: 4.14 s, total: 31min 40s\n",
      "Wall time: 31min 43s\n"
     ]
    }
   ],
   "source": [
    "%%time\n",
    "%%memit\n",
    "log_reg1 = LogisticRegression(multi_class=\"ovr\", solver=\"saga\", max_iter=5000, random_state=seed)\n",
    "log_reg1.fit(X_train_flatten, y_train_flatten.ravel())"
   ]
  },
  {
   "cell_type": "code",
   "execution_count": null,
   "id": "b45153b0-1929-4c65-a5bc-c21bff85862a",
   "metadata": {
    "id": "b45153b0-1929-4c65-a5bc-c21bff85862a",
    "outputId": "67f34715-abc5-4a36-841e-643ee29b7707"
   },
   "outputs": [
    {
     "data": {
      "text/plain": [
       "0.841"
      ]
     },
     "execution_count": 9,
     "metadata": {
      "tags": []
     },
     "output_type": "execute_result"
    }
   ],
   "source": [
    "dump(log_reg1,'log_reg_orig.joblib')\n",
    "log_reg1.score(X_test_flatten, y_test_flatten)"
   ]
  },
  {
   "cell_type": "code",
   "execution_count": null,
   "id": "896a4048-6ade-4052-8d05-a895c0a224f8",
   "metadata": {
    "id": "896a4048-6ade-4052-8d05-a895c0a224f8",
    "outputId": "b936f4c3-51e3-425c-f364-9e596c1e00c5"
   },
   "outputs": [
    {
     "name": "stdout",
     "output_type": "stream",
     "text": [
      "Cluster= 100, Accuracy= 0.8262\n",
      "Cluster= 200, Accuracy= 0.8389\n",
      "Cluster= 300, Accuracy= 0.8456\n",
      "peak memory: 6364.94 MiB, increment: 3626.22 MiB\n",
      "CPU times: user 3h 16min 20s, sys: 2min 29s, total: 3h 18min 49s\n",
      "Wall time: 2h 47min 38s\n"
     ]
    }
   ],
   "source": [
    "%%time\n",
    "%%memit\n",
    "k=[100,200,300]\n",
    "pipeline=np.empty(len(k),dtype=object)\n",
    "for i in range(len(k)):\n",
    "    pipeline[i] = Pipeline([(\"kmeans\", KMeans(init='k-means++',n_clusters=k[i], random_state=seed)),\n",
    "                         (\"log_reg\", LogisticRegression(multi_class=\"ovr\", solver=\"saga\",\n",
    "                                                        max_iter=5000, random_state=seed))])\n",
    "    pipeline[i].fit(X_train_flatten, y_train_flatten.ravel())\n",
    "    dump(pipeline[i],'log_reg_kmeans_{}.joblib'.format(i))\n",
    "    print('Cluster= {}, Accuracy= {}'.format(k[i],\n",
    "            pipeline[i].score(X_test_flatten,y_test_flatten)))"
   ]
  },
  {
   "cell_type": "markdown",
   "id": "b5e348d1-d93c-4112-8ac1-045726532eb7",
   "metadata": {
    "id": "b5e348d1-d93c-4112-8ac1-045726532eb7"
   },
   "source": [
    "## Random Labelled Instances"
   ]
  },
  {
   "cell_type": "code",
   "execution_count": null,
   "id": "f020c5ab-a48f-4b1b-aadf-6b77eb893b97",
   "metadata": {
    "id": "f020c5ab-a48f-4b1b-aadf-6b77eb893b97",
    "outputId": "9e751bab-5ac7-40d7-fb82-6c3deb7821cd"
   },
   "outputs": [
    {
     "name": "stdout",
     "output_type": "stream",
     "text": [
      "Labelled Instance= 500, Accuracy= 0.7852\n",
      "Labelled Instance= 1000, Accuracy= 0.7924\n",
      "Labelled Instance= 2000, Accuracy= 0.8089\n",
      "peak memory: 1732.44 MiB, increment: 7.16 MiB\n",
      "CPU times: user 17.2 s, sys: 518 ms, total: 17.7 s\n",
      "Wall time: 15 s\n"
     ]
    }
   ],
   "source": [
    "%%time\n",
    "%%memit\n",
    "k=[500,1000,2000]\n",
    "log_reg2=np.empty(len(k),dtype=object)\n",
    "for i in range(len(k)):\n",
    "    log_reg2[i] = LogisticRegression(multi_class=\"ovr\", solver=\"saga\", random_state=seed)\n",
    "    log_reg2[i].fit(X_train_flatten[:k[i]], y_train_flatten[:k[i]].ravel())\n",
    "    dump(log_reg2[i],'log_reg_few_label_{}.joblib'.format(i))\n",
    "    print('Labelled Instance= {}, Accuracy= {}'.format(k[i],\n",
    "            log_reg2[i].score(X_test_flatten,y_test_flatten.ravel())))"
   ]
  },
  {
   "cell_type": "code",
   "execution_count": null,
   "id": "53eacca7-4eb1-4d29-98ca-fbcb02e125e0",
   "metadata": {
    "id": "53eacca7-4eb1-4d29-98ca-fbcb02e125e0",
    "outputId": "3966fa33-1ab5-469a-8dc1-a8e86e8fa1ed"
   },
   "outputs": [
    {
     "name": "stdout",
     "output_type": "stream",
     "text": [
      "peak memory: 10396.50 MiB, increment: 8859.62 MiB\n",
      "CPU times: user 1h 32min 8s, sys: 7min 11s, total: 1h 39min 19s\n",
      "Wall time: 16min 9s\n"
     ]
    }
   ],
   "source": [
    "%%time\n",
    "%%memit\n",
    "kmeans1 = KMeans(init='k-means++',n_clusters=2000, random_state=seed)\n",
    "X_items_dist = kmeans1.fit_transform(X_train_flatten)\n",
    "dump(kmeans1,'kmeans_2000.joblib')\n",
    "representative_items_idx = np.argmin(X_items_dist, axis=0)\n",
    "X_representative_items = X_train_flatten[representative_items_idx]\n",
    "y_representative_items = np.squeeze(y_train_flatten[representative_items_idx]).astype('int32')"
   ]
  },
  {
   "cell_type": "code",
   "execution_count": null,
   "id": "62a5da67-6362-4b2a-941f-cbf9d896d3fa",
   "metadata": {
    "id": "62a5da67-6362-4b2a-941f-cbf9d896d3fa",
    "outputId": "1fa5b98d-0ce7-4864-ca76-662d3476497a"
   },
   "outputs": [
    {
     "name": "stdout",
     "output_type": "stream",
     "text": [
      "['Ankle Boot' 'T-shirt/top' 'T-shirt/top' ... 'Bag' 'Trouser' 'Ankle Boot']\n"
     ]
    }
   ],
   "source": [
    "y_representative_items = np.squeeze(y_train_flatten[representative_items_idx]).astype('int32')\n",
    "print(np.array(class_names)[y_representative_items])"
   ]
  },
  {
   "cell_type": "markdown",
   "id": "e3cbc167-a7e1-41ad-bc86-f6d9cc8cf2df",
   "metadata": {
    "id": "e3cbc167-a7e1-41ad-bc86-f6d9cc8cf2df"
   },
   "source": [
    "## Using These Centroids to fit logistic regression"
   ]
  },
  {
   "cell_type": "code",
   "execution_count": null,
   "id": "a607fcac-ce2e-4e4e-95a6-5fae5e4da8f4",
   "metadata": {
    "id": "a607fcac-ce2e-4e4e-95a6-5fae5e4da8f4",
    "outputId": "5cf5c9bc-dac2-454e-e26f-5677c196d0d2"
   },
   "outputs": [
    {
     "name": "stdout",
     "output_type": "stream",
     "text": [
      "Accuracy=  0.8146\n",
      "peak memory: 8181.33 MiB, increment: 0.03 MiB\n",
      "CPU times: user 59.9 s, sys: 160 ms, total: 1min\n",
      "Wall time: 1min\n"
     ]
    }
   ],
   "source": [
    "%%time\n",
    "%%memit\n",
    "log_reg3 = LogisticRegression(multi_class=\"ovr\", solver=\"saga\", max_iter=5000, random_state=seed)\n",
    "log_reg3.fit(X_representative_items, y_representative_items)\n",
    "dump(log_reg3,'log_reg_centroids.joblib')\n",
    "print('Accuracy= ',log_reg3.score(X_test_flatten, y_test_flatten))"
   ]
  },
  {
   "cell_type": "markdown",
   "id": "69f0a968-fe0e-4f97-9b00-ce875a2de473",
   "metadata": {
    "id": "69f0a968-fe0e-4f97-9b00-ce875a2de473"
   },
   "source": [
    "## Clustering and Propgating Labels to each Data Point"
   ]
  },
  {
   "cell_type": "code",
   "execution_count": null,
   "id": "ed4b1f35-ef9c-4873-962b-1761eaae0a01",
   "metadata": {
    "id": "ed4b1f35-ef9c-4873-962b-1761eaae0a01"
   },
   "outputs": [],
   "source": [
    "y_train_propagated = np.empty(len(X_train_flatten), dtype=np.int32)\n",
    "for i in range(2000):\n",
    "    y_train_propagated[kmeans1.labels_==i] = y_representative_items[i]"
   ]
  },
  {
   "cell_type": "code",
   "execution_count": null,
   "id": "3f73c808-0414-4d9b-ade3-4c90ee3b2f04",
   "metadata": {
    "id": "3f73c808-0414-4d9b-ade3-4c90ee3b2f04",
    "outputId": "5b279f15-ecb4-4d7d-dd88-912542c2fc9b"
   },
   "outputs": [
    {
     "name": "stdout",
     "output_type": "stream",
     "text": [
      "0.8121\n",
      "peak memory: 8182.73 MiB, increment: 0.02 MiB\n",
      "CPU times: user 32min 4s, sys: 3.96 s, total: 32min 8s\n",
      "Wall time: 32min 11s\n"
     ]
    }
   ],
   "source": [
    "%%time\n",
    "%%memit\n",
    "log_reg4 = LogisticRegression(multi_class=\"ovr\", solver=\"saga\", max_iter=5000, random_state=seed)\n",
    "log_reg4.fit(X_train_flatten, y_train_propagated)\n",
    "dump(log_reg4,'log_reg_propagated.joblib')\n",
    "print(log_reg4.score(X_test_flatten,y_test_flatten))"
   ]
  },
  {
   "cell_type": "markdown",
   "id": "33b016a5-04cf-4f5a-81dd-abd3a53f51cf",
   "metadata": {
    "id": "33b016a5-04cf-4f5a-81dd-abd3a53f51cf"
   },
   "source": [
    "## Clustering and Propgating Labels to Data Points Closer to Cluster Centroids"
   ]
  },
  {
   "cell_type": "code",
   "execution_count": null,
   "id": "68ed1b2f-83b8-4305-a59f-9ca4acf2d134",
   "metadata": {
    "id": "68ed1b2f-83b8-4305-a59f-9ca4acf2d134",
    "outputId": "75a1f459-f2b2-4bfc-9b97-c21c77d73ce3"
   },
   "outputs": [
    {
     "name": "stdout",
     "output_type": "stream",
     "text": [
      "peak memory: 3609.66 MiB, increment: 895.62 MiB\n",
      "CPU times: user 264 ms, sys: 262 ms, total: 526 ms\n",
      "Wall time: 646 ms\n"
     ]
    }
   ],
   "source": [
    "%%time\n",
    "%%memit\n",
    "percentile_closest = 25\n",
    "\n",
    "X_cluster_dist = X_items_dist[np.arange(len(X_train_flatten)), kmeans1.labels_]\n",
    "for i in range(2000):\n",
    "    in_cluster = (kmeans1.labels_ == i)\n",
    "    cluster_dist = X_cluster_dist[in_cluster]\n",
    "    cutoff_distance = np.percentile(cluster_dist, percentile_closest)\n",
    "    above_cutoff = (X_cluster_dist > cutoff_distance)\n",
    "    X_cluster_dist[in_cluster & above_cutoff] = -1"
   ]
  },
  {
   "cell_type": "code",
   "execution_count": null,
   "id": "2d4b973b-ebbc-4f25-bba2-bd35deb6649f",
   "metadata": {
    "id": "2d4b973b-ebbc-4f25-bba2-bd35deb6649f"
   },
   "outputs": [],
   "source": [
    "partially_propagated = (X_cluster_dist != -1)\n",
    "X_train_partially_propagated = X_train_flatten[partially_propagated]\n",
    "y_train_partially_propagated = y_train_propagated[partially_propagated]"
   ]
  },
  {
   "cell_type": "code",
   "execution_count": null,
   "id": "d5ad35ff-548a-4991-b0ec-fcccaae83166",
   "metadata": {
    "id": "d5ad35ff-548a-4991-b0ec-fcccaae83166",
    "outputId": "c69be34b-1ab3-40f9-d930-fd5ff42a6a58"
   },
   "outputs": [
    {
     "name": "stdout",
     "output_type": "stream",
     "text": [
      "0.8044\n",
      "peak memory: 4021.36 MiB, increment: 0.03 MiB\n",
      "CPU times: user 7min 15s, sys: 737 ms, total: 7min 16s\n",
      "Wall time: 7min 16s\n"
     ]
    }
   ],
   "source": [
    "%%time\n",
    "%%memit\n",
    "log_reg5 = LogisticRegression(multi_class=\"ovr\", solver=\"saga\", max_iter=5000, random_state=seed)\n",
    "log_reg5.fit(X_train_partially_propagated, y_train_partially_propagated)\n",
    "dump(log_reg5,'log_reg_partially_propagated.joblib')\n",
    "print(log_reg5.score(X_test_flatten,y_test_flatten))"
   ]
  },
  {
   "cell_type": "markdown",
   "id": "c1ab3d38-9f7a-4422-aa55-cd9a14b2c079",
   "metadata": {
    "id": "c1ab3d38-9f7a-4422-aa55-cd9a14b2c079"
   },
   "source": [
    "# Experimenting with Neural Networks"
   ]
  },
  {
   "cell_type": "markdown",
   "id": "fd291b36-494e-41fc-98f8-9016a7b5122c",
   "metadata": {
    "id": "fd291b36-494e-41fc-98f8-9016a7b5122c"
   },
   "source": [
    "## Utility"
   ]
  },
  {
   "cell_type": "code",
   "execution_count": null,
   "id": "6e8361c9-bfb9-462a-a875-683c37f12dab",
   "metadata": {
    "id": "6e8361c9-bfb9-462a-a875-683c37f12dab"
   },
   "outputs": [],
   "source": [
    "def get_model(input_shape=(28,28, 1), n_class=10):\n",
    "    model = models.Sequential([\n",
    "                               layers.InputLayer(input_shape=input_shape),\n",
    "                               layers.Conv2D(32, (3, 3), activation=\"relu\"),\n",
    "                               layers.Conv2D(64, (3, 3), activation=\"relu\"),\n",
    "                               layers.Conv2D(128, (3, 3), activation=\"relu\"),\n",
    "                               layers.Conv1D(1, 1, activation=\"relu\"),\n",
    "                               layers.Flatten(),\n",
    "                               layers.Dense(64, activation='relu'),\n",
    "                               layers.Dense(10, activation=\"sigmoid\")\n",
    "    ])\n",
    "\n",
    "    model.compile(loss=losses.SparseCategoricalCrossentropy(name=\"loss\"), \n",
    "                  optimizer=\"adam\",\n",
    "                  metrics=[\"accuracy\"])\n",
    "    \n",
    "    return model\n",
    "\n",
    "def train_model(model, x_data, y_data, patience=8, batch_size=32):\n",
    "    estop = callbacks.EarlyStopping(patience=patience)\n",
    "    history = model.fit(x_data[..., np.newaxis], \n",
    "                        y_data, \n",
    "                        batch_size = batch_size, \n",
    "                        epochs = 100,\n",
    "                        verbose = 1,\n",
    "                        validation_split = 0.1,\n",
    "                        callbacks = [estop])\n",
    "    return history.history"
   ]
  },
  {
   "cell_type": "markdown",
   "id": "b4d58662-dbd6-4195-b8ab-ce277689723c",
   "metadata": {
    "id": "b4d58662-dbd6-4195-b8ab-ce277689723c"
   },
   "source": [
    "## On Original Data"
   ]
  },
  {
   "cell_type": "code",
   "execution_count": null,
   "id": "f26c366f-e416-42fe-b2ee-2f7ac8204791",
   "metadata": {
    "collapsed": true,
    "id": "f26c366f-e416-42fe-b2ee-2f7ac8204791",
    "jupyter": {
     "outputs_hidden": true
    },
    "tags": []
   },
   "outputs": [],
   "source": [
    "%%time\n",
    "%%memit\n",
    "\n",
    "model_1 = get_model()\n",
    "display(plot_model(model_1, rankdir=\"LR\", show_shapes=True, show_layer_names=False))\n",
    "\n",
    "# Train Model\n",
    "history_1 = train_model(model_1, X_train, y_train);\n",
    "# Testing Evaluation\n",
    "model_1.evaluate(X_test[..., np.newaxis], y_test);\n",
    "model_1.save('nn_original')"
   ]
  },
  {
   "cell_type": "markdown",
   "id": "3ad2a783-79b3-4fb8-8697-06840200c060",
   "metadata": {
    "id": "3ad2a783-79b3-4fb8-8697-06840200c060"
   },
   "source": [
    "## Random Labelled Instances"
   ]
  },
  {
   "cell_type": "code",
   "execution_count": null,
   "id": "ed0ce8d6-ecf2-48da-ac06-d90495c4ec7a",
   "metadata": {
    "collapsed": true,
    "id": "ed0ce8d6-ecf2-48da-ac06-d90495c4ec7a",
    "jupyter": {
     "outputs_hidden": true
    },
    "tags": []
   },
   "outputs": [],
   "source": [
    "%%time\n",
    "%%memit\n",
    "\n",
    "k=[500,1000,2000]\n",
    "model_2,history_2=np.empty(len(k),dtype=object),np.empty(len(k),dtype=object)\n",
    "for i in range(len(k)):\n",
    "    model_2[i]=get_model()\n",
    "    history_2[i]=train_model(model_2[i], X_train[:k[i]][..., np.newaxis], y_train[:k[i]])\n",
    "    model_2[i].evaluate(X_test[..., np.newaxis], y_test);\n",
    "    model_2[i].save('nn_labelled_{}'.format(k[i]))"
   ]
  },
  {
   "cell_type": "markdown",
   "id": "40a7c704-92cc-421c-8193-eb11ddf09b01",
   "metadata": {
    "id": "40a7c704-92cc-421c-8193-eb11ddf09b01"
   },
   "source": [
    "# Clustering and Using Centroids as Representative"
   ]
  },
  {
   "cell_type": "code",
   "execution_count": null,
   "id": "8f42c8e8-cbd9-44a6-aa8f-ae55f933df69",
   "metadata": {
    "collapsed": true,
    "id": "8f42c8e8-cbd9-44a6-aa8f-ae55f933df69",
    "jupyter": {
     "outputs_hidden": true
    },
    "tags": []
   },
   "outputs": [],
   "source": [
    "%%time\n",
    "%%memit\n",
    "\n",
    "k=[500,1000,2000]\n",
    "kmeans_2=np.empty(len(k),dtype=object)\n",
    "model_3,history_3=np.empty(len(k),dtype=object),np.empty(len(k),dtype=object)\n",
    "for i in range(len(k)):\n",
    "    kmeans_2[i] = KMeans(init='k-means++',n_clusters = k[i], random_state = seed)\n",
    "    X_items_dist = kmeans_2[i].fit_transform(X_train.reshape(X_train.shape[0], -1))\n",
    "    representative_items_idx = np.argmin(X_items_dist, axis=0)\n",
    "    X_representative_items = X_train[representative_items_idx]\n",
    "    y_representative_items = y_train[representative_items_idx]\n",
    "    \n",
    "    model_3[i]=get_model()\n",
    "    history_3[i]= train_model(model_3[i], X_representative_items[..., np.newaxis], y_representative_items)\n",
    "    model_3[i].evaluate(X_test[..., np.newaxis], y_test);\n",
    "    model_3[i].save('nn_centroid_cluster_{}'.format(k[i]))\n",
    "    dump(kmeans_2[i],'cluster_nn_{}.joblib'.format(k[i]))"
   ]
  },
  {
   "cell_type": "markdown",
   "id": "4e87be3e-acb5-49ee-8c8d-85ca5da65dfc",
   "metadata": {
    "id": "4e87be3e-acb5-49ee-8c8d-85ca5da65dfc"
   },
   "source": [
    "## Clustering and Propgating Labels to each Data Point"
   ]
  },
  {
   "cell_type": "code",
   "execution_count": null,
   "id": "db265756-3959-4701-bcf5-3952010823a9",
   "metadata": {
    "id": "db265756-3959-4701-bcf5-3952010823a9"
   },
   "outputs": [],
   "source": [
    "def cluster_label_prop(k=500):\n",
    "    kmeans=load('cluster_nn_{}.joblib'.format(k))\n",
    "    X_items_dist=kmeans.transform(X_train.reshape(X_train.shape[0], -1))\n",
    "    representative_items_idx = np.argmin(X_items_dist, axis=0)\n",
    "    X_representative_items = X_train[representative_items_idx]\n",
    "    y_representative_items = y_train[representative_items_idx]\n",
    "    y_train_propagated = np.empty(len(X_train), dtype=np.int32)\n",
    "    for i in range(k):\n",
    "        y_train_propagated[kmeans.labels_==i] = y_representative_items[i]\n",
    "    \n",
    "    #construct and train fresh neural network\n",
    "    model_4=get_model()\n",
    "    history_4 = train_model(model_4, X_train[..., np.newaxis], y_train_propagated)\n",
    "    model_4.evaluate(X_test[..., np.newaxis], y_test);\n",
    "    model_4.save('nn_full_propagated_{}'.format(k))"
   ]
  },
  {
   "cell_type": "code",
   "execution_count": null,
   "id": "a348f5b4-58ad-41d6-a133-29faad3a13b2",
   "metadata": {
    "collapsed": true,
    "id": "a348f5b4-58ad-41d6-a133-29faad3a13b2",
    "jupyter": {
     "outputs_hidden": true
    },
    "tags": []
   },
   "outputs": [],
   "source": [
    "%%time\n",
    "%%memit\n",
    "\n",
    "for i in k:\n",
    "    print('Clusters: ',i)\n",
    "    cluster_label_prop(i)"
   ]
  },
  {
   "cell_type": "markdown",
   "id": "e16d72ff-4465-4288-b8f0-63223015c79f",
   "metadata": {
    "id": "e16d72ff-4465-4288-b8f0-63223015c79f"
   },
   "source": [
    "## Clustering and Propgating Labels to Data Points Closer to Cluster Centroids"
   ]
  },
  {
   "cell_type": "code",
   "execution_count": null,
   "id": "99cc8cdb-6125-469c-9ac5-e964b6a0ab6e",
   "metadata": {
    "id": "99cc8cdb-6125-469c-9ac5-e964b6a0ab6e"
   },
   "outputs": [],
   "source": [
    "def cluster_label_prop(k=500,percentile_closest=25):\n",
    "    kmeans=load('cluster_nn_{}.joblib'.format(k))\n",
    "    X_items_dist=kmeans.transform(X_train.reshape(X_train.shape[0], -1))\n",
    "    X_cluster_dist = X_items_dist[np.arange(len(X_train)), kmeans.labels_]\n",
    "    representative_items_idx = np.argmin(X_items_dist, axis=0)\n",
    "    y_representative_items = y_train[representative_items_idx]\n",
    "    y_train_propagated = np.empty(len(X_train), dtype=np.int32)\n",
    "    for i in range(k):\n",
    "        in_cluster = (kmeans.labels_ == i)\n",
    "        cluster_dist = X_cluster_dist[in_cluster]\n",
    "        cutoff_distance = np.percentile(cluster_dist, percentile_closest)\n",
    "        above_cutoff = (X_cluster_dist > cutoff_distance)\n",
    "        X_cluster_dist[in_cluster & above_cutoff] = -1\n",
    "        y_train_propagated[kmeans.labels_==i] = y_representative_items[i]\n",
    "        \n",
    "    # Allocating Labels to Marked Point in Cluster\n",
    "    partially_propagated = (X_cluster_dist != -1)\n",
    "    X_train_partially_propagated = X_train[partially_propagated]\n",
    "    y_train_partially_propagated = y_train_propagated[partially_propagated]\n",
    "    \n",
    "    #construct and train fresh neural network\n",
    "    model_5=get_model()\n",
    "    history_5 = train_model(model_5, X_train_partially_propagated[..., np.newaxis], y_train_partially_propagated)\n",
    "    model_5.evaluate(X_test[..., np.newaxis], y_test);\n",
    "    model_5.save('nn_partially_propagated_{}-clusters_{}-percentile'.format(k,percentile_closest))"
   ]
  },
  {
   "cell_type": "code",
   "execution_count": null,
   "id": "5a01b823-a76f-43cb-a6b2-5f7f0d2d7471",
   "metadata": {
    "collapsed": true,
    "id": "5a01b823-a76f-43cb-a6b2-5f7f0d2d7471",
    "jupyter": {
     "outputs_hidden": true
    },
    "tags": []
   },
   "outputs": [],
   "source": [
    "%%time\n",
    "%%memit\n",
    "\n",
    "for i in k:\n",
    "    print('Clusters: ',i)\n",
    "    cluster_label_prop(i)"
   ]
  },
  {
   "cell_type": "markdown",
   "id": "0720bd77-33f9-49ae-b662-af410eb471f3",
   "metadata": {
    "id": "0720bd77-33f9-49ae-b662-af410eb471f3"
   },
   "source": [
    "## Taking 2000 clusters and determining optimum percentile for propagation"
   ]
  },
  {
   "cell_type": "code",
   "execution_count": null,
   "id": "f0dc0a76-8dbf-4736-b5e9-294fa4e1f4c7",
   "metadata": {
    "id": "f0dc0a76-8dbf-4736-b5e9-294fa4e1f4c7"
   },
   "outputs": [],
   "source": [
    "%%time\n",
    "%%memit\n",
    "\n",
    "for i in [20,25,30,50,75]:\n",
    "    print('Percentile= ',i)\n",
    "    cluster_label_prop(k=2000,percentile_closest=i)"
   ]
  }
 ],
 "metadata": {
  "colab": {
   "collapsed_sections": [],
   "name": "code.ipynb",
   "provenance": []
  },
  "kernelspec": {
   "display_name": "Python 3 (ipykernel)",
   "language": "python",
   "name": "python3"
  },
  "language_info": {
   "codemirror_mode": {
    "name": "ipython",
    "version": 3
   },
   "file_extension": ".py",
   "mimetype": "text/x-python",
   "name": "python",
   "nbconvert_exporter": "python",
   "pygments_lexer": "ipython3",
   "version": "3.8.10"
  }
 },
 "nbformat": 4,
 "nbformat_minor": 5
}
